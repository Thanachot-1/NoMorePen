from data.data_collection_and_cleaning import get_data_loader
import matplotlib.pyplot as plt
import numpy as np

loader = get_data_loader()
images, labels = next(iter(loader))

# แสดง batch แรก
fig, axes = plt.subplots(4,8, figsize=(8,4))
for img, ax in zip(images, axes.flatten()):
    ax.axis('off')
    ax.imshow(img.squeeze(), cmap='gray')
plt.show()

# คำนวณ mean/std
all_imgs = torch.cat([b for b,_ in loader], dim=0)
mean = all_imgs.mean().item()
std  = all_imgs.std().item()
print(f"Dataset mean: {mean:.4f}, std: {std:.4f}")
